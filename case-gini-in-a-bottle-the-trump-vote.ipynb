{
 "cells": [
  {
   "cell_type": "markdown",
   "metadata": {},
   "source": [
    "# Gini in a bottle: Income Inequality and the Trump Vote"
   ]
  },
  {
   "cell_type": "markdown",
   "metadata": {},
   "source": [
    "- read data\n",
    "- exercise, make paired plots of the data\n",
    "- exercise, moran scatterplot of 2016 vote\n",
    "- exercise, do local I on two-party vote\n",
    "- exercise, moran scatterplot of swing\n",
    "- exercise, do local I on swing into 2016 from 2012\n",
    "- exercise, look at bivariate correlation on swing\n",
    "- exercise, predict 2016 vote using 2012 vote and gini"
   ]
  }
 ],
 "metadata": {
  "kernelspec": {
   "display_name": "gds",
   "language": "python",
   "name": "gds"
  },
  "language_info": {
   "codemirror_mode": {
    "name": "ipython",
    "version": 3
   },
   "file_extension": ".py",
   "mimetype": "text/x-python",
   "name": "python",
   "nbconvert_exporter": "python",
   "pygments_lexer": "ipython3",
   "version": "3.6.5"
  }
 },
 "nbformat": 4,
 "nbformat_minor": 2
}
